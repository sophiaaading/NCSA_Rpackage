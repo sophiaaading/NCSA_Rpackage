{
 "cells": [
  {
   "cell_type": "code",
   "execution_count": 2,
   "metadata": {},
   "outputs": [],
   "source": [
    "import pandas as pd\n",
    "import numpy as np\n",
    "#get_ipython().run_line_magic('matplotlib', 'inline')\n",
    "import matplotlib.pyplot as plt\n",
    "from sklearn.preprocessing import MinMaxScaler\n",
    "\n",
    "from scipy import stats\n",
    "\n",
    "import random\n",
    "import re\n",
    "from dateutil.parser import parse\n",
    "\n",
    "import warnings  \n",
    "warnings.filterwarnings('ignore')\n",
    "\n",
    "import os\n",
    "\n",
    "import math\n",
    "\n",
    "from statistics import mean\n",
    "\n",
    "from datetime import timedelta\n",
    "from datetime import datetime"
   ]
  },
  {
   "cell_type": "code",
   "execution_count": 3,
   "metadata": {},
   "outputs": [],
   "source": [
    "data = pd.read_csv(\"~/Desktop/prediabetic.csv\")\n",
    "data['Display Time'] = pd.to_datetime(data['Display Time'])\n",
    "data['GlucoseValue'] = pd.to_numeric(data['GlucoseValue'])"
   ]
  },
  {
   "cell_type": "code",
   "execution_count": 47,
   "metadata": {},
   "outputs": [],
   "source": [
    "def hourlySamples( df):\n",
    "\n",
    "    groupkey = df['Display Time'].values.astype('datetime64[h]')\n",
    "    result = df.groupby(groupkey).first()\n",
    "    result = result.reset_index(drop=True)\n",
    "    return (result)"
   ]
  },
  {
   "cell_type": "code",
   "execution_count": 54,
   "metadata": {},
   "outputs": [],
   "source": [
    "def subSample(data):\n",
    " \n",
    "    data['Display Time'] = pd.to_datetime(data['Display Time'])\n",
    "    data['time_gap'] = data['Display Time'].shift(1)-data['Display Time'][0]\n",
    "    data['time_gap'][0] = '00:00:00'\n",
    "    mods = [0,870,871,872,873,874,875,876,877,878,879,880,881,882,883,884,885,886,887,888,889,890,891,892,893,894,895,896,897,898,899]\n",
    "    subset = pd.DataFrame()\n",
    "    for i in range(1,len(data.index)):\n",
    "        seconds = data['time_gap'][i].total_seconds()\n",
    "        if (seconds%900) in mods:\n",
    "            subj_id = data['subjectId'][i]\n",
    "            gv = data['GlucoseValue'][i]\n",
    "            dt = data['Display Time'][i]\n",
    "            temp_df = pd.DataFrame({'Display Time':[dt], 'GlucoseValue':[gv], 'subjectId':[subj_id]})\n",
    "            subset = pd.concat([temp_df,subset],ignore_index=True)\n",
    "    subset = subset.iloc[::-1]\n",
    "    subset = subset.reset_index(drop=True)\n",
    "    data.drop(['time_gap'], axis=1, inplace=True)\n",
    "    return subset\n"
   ]
  },
  {
   "cell_type": "code",
   "execution_count": 8,
   "metadata": {},
   "outputs": [],
   "source": [
    "def gfi(x):\n",
    "\n",
    "    N = len(x)\n",
    "    S = 0\n",
    "    for i in range(0,N-1):\n",
    "        S = S + (x.iloc[i, 1]  - x.iloc[(i+1), 1]) ** 2\n",
    "            \n",
    "    gfi = np.sqrt(S/N)\n",
    "    gcf = gfi/np.mean(x.iloc[:,1])\n",
    "    # return pd.DataFrame({'GFI':[gfi], 'GCF':[gcf]})\n",
    "    if math.isinf(gfi):\n",
    "        print(\"Error calculating GFI for: \"+str(x[\"subjectId\"]))\n",
    "        gfi = 0.0\n",
    "    elif math.isinf(gcf):\n",
    "        print(\"Error calculating GCF for: \"+str(x[\"subjectId\"]))\n",
    "        gcf = 0.0\n",
    "\n",
    "    return gfi, gcf"
   ]
  },
  {
   "cell_type": "code",
   "execution_count": 9,
   "metadata": {},
   "outputs": [
    {
     "data": {
      "text/plain": [
       "(4.0333908606292255, 0.03769915917071296)"
      ]
     },
     "execution_count": 9,
     "metadata": {},
     "output_type": "execute_result"
    }
   ],
   "source": [
    "gfi(data)"
   ]
  },
  {
   "cell_type": "code",
   "execution_count": 10,
   "metadata": {},
   "outputs": [],
   "source": [
    "def bgri(x, units):\n",
    "    \n",
    "    if (units == 'mg'):\n",
    "        fBG = 1.509*((np.log(   x.iloc[:, 1]) )**1.084  - 5.381)\n",
    "    elif (units=='mmol'):\n",
    "        fBG = 1.509*((np.log(18*x.iloc[:, 1]) )**1.084  - 5.381)\n",
    "    else:\n",
    "        print('units should be either mmol or mg')\n",
    "        return 0\n",
    "\n",
    "    rBG = 10 * fBG ** 2 # called BG risk function\n",
    "    s = np.sign(fBG)\n",
    "    s_left = np.abs(s.where(s == -1, 0))\n",
    "    rlBG = rBG * s_left # called BG risk function left branch\n",
    "\n",
    "    s_right = s.where(s == 1, 0)\n",
    "    rhBG = rBG * s_right # called BG risk function right branch\n",
    "\n",
    "    LBGI = np.mean(rlBG)#1/len(rlBG)*np.sum(rlBG) # low BD index\n",
    "    HBGI = np.mean(rhBG)#1/len(rhBG)*np.sum(rhBG) # high BD index\n",
    "    BGRI = (LBGI + HBGI) # BG risk index\n",
    "\n",
    "    # return pd.DataFrame({'LBGI':[LBGI], 'HBGI':[HBGI], 'BGRI':[BGRI]})\n",
    "    if math.isinf(LBGI):\n",
    "        print(\"Error calculating LBGI for: \"+str(x[\"subjectId\"]))\n",
    "        LBGI = 0.0\n",
    "    elif math.isinf(HBGI):\n",
    "        print(\"Error calculating HBGI for: \"+str(x[\"subjectId\"]))\n",
    "        HBGI = 0.0\n",
    "    elif math.isinf(BGRI):\n",
    "        print(\"Error calculating BGRI for: \"+str(x[\"subjectId\"]))\n",
    "        BGRI = 0.0\n",
    "\n",
    "    return LBGI, HBGI, BGRI\n"
   ]
  },
  {
   "cell_type": "code",
   "execution_count": 11,
   "metadata": {},
   "outputs": [
    {
     "data": {
      "text/plain": [
       "(0.6027147643468638, 0.14139436909889394, 0.7441091334457577)"
      ]
     },
     "execution_count": 11,
     "metadata": {},
     "output_type": "execute_result"
    }
   ],
   "source": [
    "bgri(data, 'mg')"
   ]
  },
  {
   "cell_type": "code",
   "execution_count": 12,
   "metadata": {},
   "outputs": [],
   "source": [
    "def grade(x, units):\n",
    "\n",
    "    if (units == 'mg'):\n",
    "        a = 18\n",
    "        g = np.append(np.where(x.iloc[:, 1] <= 37)[0], np.where(x.iloc[:, 1] >= 630)[0])\n",
    "        hypo = np.where(x.iloc[:, 1] < 70)[0]\n",
    "        eu = np.where((x.iloc[:, 1] >= 70) & (x.iloc[:, 1]<=140))[0]\n",
    "        hyper = np.where(x.iloc[:, 1] > 140)[0]\n",
    "    elif (units=='mmol'):\n",
    "        a = 1\n",
    "        g = np.append(np.where(x.iloc[:, 1] <= 2.06)[0], np.where(x.iloc[:, 1] >= 33.42)[0])\n",
    "        hypo = np.where(x.iloc[:, 1]<3.9)[0]\n",
    "        eu = np.where(x.iloc[:, 1]>=3.9 & x.iloc[:, 1] <=7.8)[0]\n",
    "        hyper = np.where(x.iloc[:, 1]>7.8)[0]\n",
    "    else:\n",
    "        print('units should be either mmol or mg')\n",
    "        return 0\n",
    "\n",
    "    grd = 425*( np.log10( np.log10(a*x.iloc[:, 1]) ) + 0.16) ** 2\n",
    "\n",
    "\n",
    "    if (len(g)>0):  # GRADE is designed to operate for BG ranges between 2.06 (37 mg/dl) and 33.42 mmol/l (630 mg/dl).\n",
    "        grd[g] = 50 # Values outside this range are ascribed a GRADE value of 50.\n",
    "\n",
    "    tmp = (np.mean(grd), len(hypo)/len(x)*100, len(eu)/len(x)*100, len(hyper)/len(x)*100)\n",
    "\n",
    "    GRADE = np.mean(grd)\n",
    "    HypoG_P = len(hypo)/len(x)*100\n",
    "    EuG_P = len(eu)/len(x)*100\n",
    "    HyperG_P = len(hyper)/len(x)*100\n",
    "\n",
    "    # return pd.DataFrame({'GRADE':[np.mean(grd)], 'HypoG%':[len(hypo)/len(x)*100], 'EuG%':[len(eu)/len(x)*100], 'HyperG%':[len(hyper)/len(x)*100]})\n",
    "    if math.isinf(GRADE):\n",
    "        print(\"Error calculating GRADE for: \"+str(x[\"subjectId\"]))\n",
    "        GRADE = 0.0\n",
    "    elif math.isinf(HypoG_P):\n",
    "        print(\"Error calculating HypoG_P for: \"+str(x[\"subjectId\"]))\n",
    "        HypoG_P = 0.0\n",
    "    elif math.isinf(EuG_P):\n",
    "        print(\"Error calculating EuG_P for: \"+str(x[\"subjectId\"]))\n",
    "        EuG_P = 0.0\n",
    "    elif math.isinf(HyperG_P):\n",
    "        print(\"Error calculating HyperG_P for: \"+str(x[\"subjectId\"]))\n",
    "        HyperG_P = 0.0\n",
    "\n",
    "    return GRADE , HypoG_P, EuG_P, HyperG_P"
   ]
  },
  {
   "cell_type": "code",
   "execution_count": 13,
   "metadata": {},
   "outputs": [
    {
     "data": {
      "text/plain": [
       "(194.18345998623013,\n",
       " 0.06949270326615706,\n",
       " 97.63724808895066,\n",
       " 2.2932592077831826)"
      ]
     },
     "execution_count": 13,
     "metadata": {},
     "output_type": "execute_result"
    }
   ],
   "source": [
    "grade(data, 'mg')"
   ]
  },
  {
   "cell_type": "code",
   "execution_count": 14,
   "metadata": {},
   "outputs": [],
   "source": [
    "def j_index(x, units):\n",
    "    if (units == 'mg'):\n",
    "        a = 0.001\n",
    "    elif (units=='mmol'):\n",
    "        a = 0.324\n",
    "    else:\n",
    "        print('units should be either mmol or mg')\n",
    "        return 0\n",
    "\n",
    "    j = a*(np.mean(x.iloc[:, 1]) + np.std(x.iloc[:, 1])) ** 2\n",
    "\n",
    "    # return pd.DataFrame({'J-index':[j]})\n",
    "    if math.isinf(j):\n",
    "        print(\"Error calculating J-Index for: \"+str(x[\"subjectId\"]))\n",
    "        j = 0.0\n",
    "    return j"
   ]
  },
  {
   "cell_type": "code",
   "execution_count": 15,
   "metadata": {},
   "outputs": [
    {
     "data": {
      "text/plain": [
       "14.716521756499343"
      ]
     },
     "execution_count": 15,
     "metadata": {},
     "output_type": "execute_result"
    }
   ],
   "source": [
    "j_index(data, 'mg')"
   ]
  },
  {
   "cell_type": "code",
   "execution_count": 16,
   "metadata": {},
   "outputs": [],
   "source": [
    "def m_value(x, units, ref_value):\n",
    "    if (units == 'mg'):\n",
    "        PG = x.iloc[:, 1]\n",
    "    elif (units=='mmol'):\n",
    "        PG = 18*x.iloc[:, 1]\n",
    "    else:\n",
    "        print('units should be either mmol or mg')\n",
    "        return 0\n",
    "\n",
    "    if ((ref_value != 120) & (ref_value != 90) & (ref_value != 80) ):\n",
    "        print('ref_value should be set to one of these: 80, 90, 120')\n",
    "        return 0\n",
    "\n",
    "    M_BSBS = np.abs((10*np.log(PG/ref_value))**3)\n",
    "\n",
    "    if (len(PG)<25):\n",
    "        W = np.max(PG) - np.min(PG)\n",
    "        Mvalue = np.mean(M_BSBS) + W/20 \n",
    "    else:\n",
    "        Mvalue = np.mean(M_BSBS)\n",
    "\n",
    "    # return pd.DataFrame({'M-value':[Mvalue]})\n",
    "    if math.isinf(Mvalue):\n",
    "        print(\"Error calculating Mvalue for: \"+str(x[\"subjectId\"]))\n",
    "        Mvalue = 0.0\n",
    "\n",
    "    return Mvalue\n"
   ]
  },
  {
   "cell_type": "code",
   "execution_count": 17,
   "metadata": {},
   "outputs": [
    {
     "data": {
      "text/plain": [
       "9.342104950850654"
      ]
     },
     "execution_count": 17,
     "metadata": {},
     "output_type": "execute_result"
    }
   ],
   "source": [
    "m_value(data, 'mg', 120)"
   ]
  },
  {
   "cell_type": "code",
   "execution_count": 18,
   "metadata": {},
   "outputs": [],
   "source": [
    "def mag(x):\n",
    "\n",
    "    S = np.abs(np.sum(x.iloc[:, 1].diff()))\n",
    "    n = len(x)-1\n",
    "    total_T = (x.iloc[n,0] - x.iloc[0, 0])/np.timedelta64(1,'h')\n",
    "    MAG = S/total_T\n",
    "    # return pd.DataFrame({'MAG':[MAG]})\n",
    "\n",
    "    if math.isinf(MAG):\n",
    "        print(\"Error calculating MAG for: \"+str(x[\"subjectId\"]))\n",
    "        MAG = 0.0\n",
    "\n",
    "    return MAG"
   ]
  },
  {
   "cell_type": "code",
   "execution_count": 19,
   "metadata": {},
   "outputs": [
    {
     "data": {
      "text/plain": [
       "0.06671654964244099"
      ]
     },
     "execution_count": 19,
     "metadata": {},
     "output_type": "execute_result"
    }
   ],
   "source": [
    "mag(data)"
   ]
  },
  {
   "cell_type": "code",
   "execution_count": 20,
   "metadata": {},
   "outputs": [],
   "source": [
    "def gvp(x, units):\n",
    "\n",
    "    if (units != 'mg'):\n",
    "        print('units can only be mg')\n",
    "        return 0\n",
    "\n",
    "    dt = x.iloc[:, 0].diff()/np.timedelta64(1,'m') # assuming that sampling can not necessarily be equally spaced\n",
    "    dy = x.iloc[:, 1].diff()\n",
    "\n",
    "    L = np.sum(np.sqrt(dt**2 + dy**2))\n",
    "    L_0 = np.sum(dt)\n",
    "\n",
    "    GVP = (L/L_0 -1) *100\n",
    "    # return pd.DataFrame({'GVP(%)':[GVP]})\n",
    "\n",
    "    if math.isinf(GVP):\n",
    "        print(\"Error calculating GVP for: \"+str(x[\"subjectId\"]))\n",
    "        GVP = 0.0\n",
    "\n",
    "    return GVP"
   ]
  },
  {
   "cell_type": "code",
   "execution_count": 21,
   "metadata": {},
   "outputs": [
    {
     "data": {
      "text/plain": [
       "22.523638503823882"
      ]
     },
     "execution_count": 21,
     "metadata": {},
     "output_type": "execute_result"
    }
   ],
   "source": [
    "gvp(data, 'mg')"
   ]
  },
  {
   "cell_type": "code",
   "execution_count": 22,
   "metadata": {},
   "outputs": [],
   "source": [
    "def gmi(x, units):\n",
    "\n",
    "    if (units == 'mg'):\n",
    "        GMI = 3.31 + 0.02392 * np.mean(x.iloc[:, 1])\n",
    "        # return pd.DataFrame({'GMI(%)': [GMI]})\n",
    "        return GMI\n",
    "    elif (units=='mmol'):\n",
    "        GMI = 12.71 + 4.70587 * np.mean(x.iloc[:, 1])\n",
    "        # return pd.DataFrame({'GMI(%)': [GMI]})\n",
    "        return GMI\n",
    "    else:\n",
    "        print('units should be either mmol or mg')\n",
    "        return 0\n"
   ]
  },
  {
   "cell_type": "code",
   "execution_count": 23,
   "metadata": {},
   "outputs": [
    {
     "data": {
      "text/plain": [
       "5.86917403752606"
      ]
     },
     "execution_count": 23,
     "metadata": {},
     "output_type": "execute_result"
    }
   ],
   "source": [
    "gmi(data, 'mg')"
   ]
  },
  {
   "cell_type": "code",
   "execution_count": 24,
   "metadata": {},
   "outputs": [],
   "source": [
    "def lage(x):\n",
    "\n",
    "    MIN = np.min(x.iloc[:, 1])\n",
    "    MAX = np.max(x.iloc[:, 1])\n",
    "    LAGE = MAX - MIN\n",
    "    # return pd.DataFrame({'LAGE': [LAGE], 'MAX': [MAX], 'MIN':[MIN]})\n",
    "    return LAGE, MAX, MIN"
   ]
  },
  {
   "cell_type": "code",
   "execution_count": 25,
   "metadata": {},
   "outputs": [
    {
     "data": {
      "text/plain": [
       "(89, 156, 67)"
      ]
     },
     "execution_count": 25,
     "metadata": {},
     "output_type": "execute_result"
    }
   ],
   "source": [
    "lage(data)"
   ]
  },
  {
   "cell_type": "code",
   "execution_count": 26,
   "metadata": {},
   "outputs": [],
   "source": [
    "def ehba1c(x):\n",
    "\n",
    "    HBA1C = (np.mean(x.iloc[:, 1]) + 46.7)/28.7\n",
    "    # return pd.DataFrame({'eHbA1c': [HBA1C]})\n",
    "\n",
    "    if math.isinf(HBA1C):\n",
    "        print(\"Error calculating HBA1C for: \"+str(x[\"subjectId\"]))\n",
    "        HBA1C = 0.0\n",
    "\n",
    "    return HBA1C"
   ]
  },
  {
   "cell_type": "code",
   "execution_count": 27,
   "metadata": {},
   "outputs": [
    {
     "data": {
      "text/plain": [
       "5.355013281096774"
      ]
     },
     "execution_count": 27,
     "metadata": {},
     "output_type": "execute_result"
    }
   ],
   "source": [
    "ehba1c(data)"
   ]
  },
  {
   "cell_type": "code",
   "execution_count": 28,
   "metadata": {},
   "outputs": [],
   "source": [
    "def sumstats(x):\n",
    "\n",
    "    m = np.mean(x.iloc[:, 1])\n",
    "    sd = np.std(x.iloc[:, 1])\n",
    "    cv = sd/m\n",
    "    q75, q25 = np.percentile(x.iloc[:, 1], [75 ,25])\n",
    "    iqr = q75 - q25\n",
    "\n",
    "    # return pd.DataFrame({'Mean': [m], 'SD':[sd], 'CV': [cv], 'IQR': [iqr]})\n",
    "    return m, sd, cv, iqr"
   ]
  },
  {
   "cell_type": "code",
   "execution_count": 29,
   "metadata": {},
   "outputs": [
    {
     "data": {
      "text/plain": [
       "(106.98888116747742, 14.322790803934074, 0.13387176917490684, 19.0)"
      ]
     },
     "execution_count": 29,
     "metadata": {},
     "output_type": "execute_result"
    }
   ],
   "source": [
    "sumstats(data)"
   ]
  },
  {
   "cell_type": "code",
   "execution_count": 30,
   "metadata": {},
   "outputs": [],
   "source": [
    "def rc(x):\n",
    "\n",
    "    dt = x.iloc[:, 0].diff()/np.timedelta64(1,'m') \n",
    "    dy = x.iloc[:, 1].diff()\n",
    "\n",
    "    sdrc = np.std(dy/dt)\n",
    "    # return pd.DataFrame({'SD of RC': [sdrc]})\n",
    "\n",
    "    if math.isinf(sdrc):\n",
    "        print(\"Error calculating SDRC for: \"+str(x[\"subjectId\"]))\n",
    "        sdrc = 0.0\n",
    "\n",
    "    return sdrc"
   ]
  },
  {
   "cell_type": "code",
   "execution_count": 31,
   "metadata": {},
   "outputs": [
    {
     "data": {
      "text/plain": [
       "0.8050647192239375"
      ]
     },
     "execution_count": 31,
     "metadata": {},
     "output_type": "execute_result"
    }
   ],
   "source": [
    "rc(data)"
   ]
  },
  {
   "cell_type": "code",
   "execution_count": 35,
   "metadata": {},
   "outputs": [],
   "source": [
    "def pgs(x, units):\n",
    "\n",
    "    if (units != 'mg'):\n",
    "        return print('units can only be mg')\n",
    "\n",
    "    N54 = len(x[x.iloc[:,1]<=54])\n",
    "    F_54H = 0.5 + 4.5 * (1 - np.exp(-0.81093*N54))\n",
    "\n",
    "    N70 = len(x[x.iloc[:,1]<70]) - N54\n",
    "\n",
    "    if (N70 <= 7.65):\n",
    "        F_70H = 0.5714 * N70 + 0.625\n",
    "    else:\n",
    "        F_70H = 5\n",
    "\n",
    "    F_H = F_54H + F_70H\n",
    "    GVP = gvp(x, units=units)\n",
    "\n",
    "    F_GVP = 1 + 9/(1 + np.exp(-0.049*(GVP-65.47)))\n",
    "\n",
    "    if len(x)==0:\n",
    "        lx=1\n",
    "    else:\n",
    "        lx = len(x)\n",
    "    TIR  =  len(x) - len(x[x.iloc[:,1]<70].iloc[:,1]) - len(x[x.iloc[:,1]>180].iloc[:,1])\n",
    "    PTIR = TIR*100/lx\n",
    "\n",
    "    F_PTIR = 1 + 9/(1 + np.exp(0.0833*(PTIR - 55.04)))\n",
    "\n",
    "    MG = np.mean(x.iloc[:, 1])\n",
    "    F_MG = 1 + 9 * ( 1/(1 + np.exp(0.1139*(MG-72.08))) + 1/(1 + np.exp(-0.09195*(MG-157.57))) )\n",
    "\n",
    "    PGS = F_GVP + F_MG + F_PTIR + F_H\n",
    "    # PGS.columns=['PGS']\n",
    "\n",
    "    if math.isinf(PGS):\n",
    "        print(\"Error calculating PGS for: \"+str(x[\"subjectId\"]))\n",
    "        PGS = 0.0\n",
    "\n",
    "    return PGS"
   ]
  },
  {
   "cell_type": "code",
   "execution_count": 36,
   "metadata": {},
   "outputs": [
    {
     "data": {
      "text/plain": [
       "6.13428315674699"
      ]
     },
     "execution_count": 36,
     "metadata": {},
     "output_type": "execute_result"
    }
   ],
   "source": [
    "pgs(data, 'mg')"
   ]
  },
  {
   "cell_type": "code",
   "execution_count": 37,
   "metadata": {},
   "outputs": [],
   "source": [
    "def dt(x):\n",
    "\n",
    "    dy = np.sum(np.abs(x.iloc[:, 1].diff()))\n",
    "    return dy\n",
    "    # return pd.DataFrame({'DT': [dy]})"
   ]
  },
  {
   "cell_type": "code",
   "execution_count": 38,
   "metadata": {},
   "outputs": [
    {
     "data": {
      "text/plain": [
       "3986.0"
      ]
     },
     "execution_count": 38,
     "metadata": {},
     "output_type": "execute_result"
    }
   ],
   "source": [
    "dt(data)"
   ]
  },
  {
   "cell_type": "code",
   "execution_count": 39,
   "metadata": {},
   "outputs": [],
   "source": [
    "def tir(x, units):\n",
    "\n",
    "    if (units == 'mg'):\n",
    "        N = len(x)\n",
    "        TAR_VH = len(x[x.iloc[:,1]> 250])/N*100\n",
    "        TAR_H  = len(x[(x.iloc[:,1]>= 181) & (x.iloc[:,1]<= 250)])/N*100\n",
    "        TIR    = len(x[(x.iloc[:,1]>= 70) & (x.iloc[:,1]<= 180)])/N*100\n",
    "        TBR_L  = len(x[(x.iloc[:,1]>= 54) & (x.iloc[:,1]<= 69)])/N*100\n",
    "        TBR_VL = len(x[x.iloc[:,1]< 54])/N*100\n",
    "        # return pd.DataFrame({'TAR_VH(%)': [TAR_VH], 'TAR_H(%)': [TAR_H], 'TIR(%)': [TIR], 'TBR_L(%)': [TBR_L], 'TBR_VL(%)': [TBR_VL]})\n",
    "        return TAR_VH, TAR_H, TIR, TBR_L, TBR_VL\n",
    "    elif (units=='mmol'):\n",
    "        N = len(x)\n",
    "        TAR_VH = len(x[x.iloc[:,1]> 13.9])/N*100\n",
    "        TAR_H  = len(x[(x.iloc[:,1]>= 10.1) & (x.iloc[:,1]<= 13.9)])/N*100\n",
    "        TIR    = len(x[(x.iloc[:,1]>= 3.9) & (x.iloc[:,1]<= 10.0)])/N*100\n",
    "        TBR_L  = len(x[(x.iloc[:,1]>= 3.0) & (x.iloc[:,1]<= 3.8)])/N*100\n",
    "        TBR_VL = len(x[x.iloc[:,1]< 3.0])/N*100\n",
    "        # return pd.DataFrame({'TAR_VH(%)': [TAR_VH], 'TAR_H(%)': [TAR_H], 'TIR(%)': [TIR], 'TBR_L(%)': [TBR_L], 'TBR_VL(%)': [TBR_VL]}\n",
    "        return TAR_VH, TAR_H, TIR, TBR_L, TBR_VL\n",
    "    else:\n",
    "        return print('units should be either mmol or mg')\n",
    "\n",
    "\n"
   ]
  },
  {
   "cell_type": "code",
   "execution_count": 40,
   "metadata": {},
   "outputs": [
    {
     "data": {
      "text/plain": [
       "(0.0, 0.0, 99.93050729673384, 0.06949270326615706, 0.0)"
      ]
     },
     "execution_count": 40,
     "metadata": {},
     "output_type": "execute_result"
    }
   ],
   "source": [
    "tir(data, 'mg')"
   ]
  },
  {
   "cell_type": "code",
   "execution_count": 41,
   "metadata": {},
   "outputs": [],
   "source": [
    "def variabilityEpisodes(df, unit):\n",
    "\n",
    "    time_diff = timedelta(hours=0, minutes=15, seconds=30)\n",
    "\n",
    "\n",
    "    if unit == 'mg':\n",
    "        hypoglycemia = df[df.GlucoseValue<=54]\n",
    "        hyperglycemia = df[df.GlucoseValue>=250]\n",
    "    elif unit == 'mmol':\n",
    "        hypoglycemia = df[df.GlucoseValue<=3]\n",
    "        hyperglycemia = df[df.GlucoseValue>=13.9]\n",
    "    else:\n",
    "        print(\"Unit should be 'mg' or 'mmol'\")\n",
    "        return 0,0\n",
    "\n",
    "    hypoglycemia = hypoglycemia.reset_index(drop=True)\n",
    "    hypoglycemia['Display Time'] = pd.to_datetime(hypoglycemia['Display Time'])\n",
    "    hypoglycemia['time_gap'] = hypoglycemia['Display Time'].diff()\n",
    "    hypoglycemic_episodes = 0\n",
    "\n",
    "    for gap in hypoglycemia['time_gap']:\n",
    "        if gap <= time_diff:\n",
    "            hypoglycemic_episodes+=1\n",
    "\n",
    "\n",
    "\n",
    "    hyperglycemia = hyperglycemia.reset_index(drop=True)\n",
    "    hyperglycemia['Display Time'] = pd.to_datetime(hyperglycemia['Display Time'])\n",
    "    hyperglycemia['time_gap'] = hyperglycemia['Display Time'].diff()\n",
    "\n",
    "    hyperglycemia_episodes = 0\n",
    "    for gap in hyperglycemia['time_gap']:\n",
    "        if gap <= time_diff:\n",
    "            hyperglycemia_episodes+=1\n",
    "\n",
    "    return hypoglycemic_episodes, hyperglycemia_episodes"
   ]
  },
  {
   "cell_type": "code",
   "execution_count": 42,
   "metadata": {},
   "outputs": [
    {
     "data": {
      "text/plain": [
       "(0, 0)"
      ]
     },
     "execution_count": 42,
     "metadata": {},
     "output_type": "execute_result"
    }
   ],
   "source": [
    "variabilityEpisodes(data, 'mg')"
   ]
  },
  {
   "cell_type": "code",
   "execution_count": 43,
   "metadata": {},
   "outputs": [],
   "source": [
    "def IGC(df, unit, lltr = 80, ultr = 140, a = 1.1, b = 2.0, c = 30, d = 30):\n",
    "\n",
    "    if unit == 'mg':\n",
    "        gv = df['GlucoseValue']\n",
    "    elif unit == 'mmol':\n",
    "        gv = 18*df['GlucoseValue']\n",
    "    else:\n",
    "        print('Unit should either be mg or mmol')\n",
    "        return 0\n",
    "\n",
    "    lower_gv = gv[gv < 90]\n",
    "    upper_gv = gv[gv > 140]\n",
    "\n",
    "\n",
    "    count_lower = len(lower_gv.index)\n",
    "    count_upper = len(upper_gv.index)\n",
    "\n",
    "    hypoglycemicIndex = np.sum(np.power((lltr - lower_gv), b)) / (count_lower*d)   \n",
    "    hyperglycemicIndex = np.sum(np.power((upper_gv - ultr), a)) / (count_upper*c)\n",
    "\n",
    "    if np.isnan(hypoglycemicIndex):\n",
    "        hypoglycemicIndex = 0\n",
    "    if np.isnan(hyperglycemicIndex):\n",
    "        hyperglycemicIndex=0\n",
    "\n",
    "    igc = hypoglycemicIndex + hyperglycemicIndex\n",
    "    return round(igc,3), round(hypoglycemicIndex,3), round(hyperglycemicIndex,3)\n",
    "\n"
   ]
  },
  {
   "cell_type": "code",
   "execution_count": 44,
   "metadata": {},
   "outputs": [
    {
     "data": {
      "text/plain": [
       "(1.741, 1.466, 0.274)"
      ]
     },
     "execution_count": 44,
     "metadata": {},
     "output_type": "execute_result"
    }
   ],
   "source": [
    "IGC(data, 'mg')"
   ]
  },
  {
   "cell_type": "code",
   "execution_count": 48,
   "metadata": {},
   "outputs": [],
   "source": [
    "def glucoseLiabilityIndex(data, unit):\n",
    "\n",
    "    data = hourlySamples(data)\n",
    "    if unit == 'mg':\n",
    "        data['GlucoseValue'] = data['GlucoseValue']/18\n",
    "    gli = np.sum(np.power(data['GlucoseValue'][i] - data['GlucoseValue'][i+1],2) for i in range(0, len(data.index)-1))\n",
    "    return round(gli,3)\n"
   ]
  },
  {
   "cell_type": "code",
   "execution_count": 49,
   "metadata": {},
   "outputs": [
    {
     "data": {
      "text/plain": [
       "59.34"
      ]
     },
     "execution_count": 49,
     "metadata": {},
     "output_type": "execute_result"
    }
   ],
   "source": [
    "glucoseLiabilityIndex(data, 'mg')"
   ]
  },
  {
   "cell_type": "code",
   "execution_count": 50,
   "metadata": {},
   "outputs": [],
   "source": [
    "def adrr(xx, unit):\n",
    "    if unit == 'mg':\n",
    "        f_bg = 1.509*(np.log(xx['GlucoseValue'])**1.084)-5.381\n",
    "        xx['F(BG)'] = f_bg\n",
    "    elif unit == 'mmol':\n",
    "        f_bg = 1.509*(np.log(xx['GlucoseValue']*18)**1.084)-5.381\n",
    "        xx['F(BG)'] = f_bg\n",
    "    else:\n",
    "        print('Unit should either be mg or mmol')\n",
    "        return 0\n",
    "\n",
    "    dates = []\n",
    "    for i in range(len(xx.index)):\n",
    "        dates.append(xx['Display Time'][i].date())\n",
    "    xx['Date'] = dates \n",
    "\n",
    "\n",
    "    for Date, df in xx.groupby('Date'):\n",
    "        r_BG = 0\n",
    "        rl_BG = [0]\n",
    "        rh_BG = [0]\n",
    "        LR = 0\n",
    "        HR = 0\n",
    "        ADDR_daily = []\n",
    "        for f_BG in df['F(BG)']:\n",
    "            if f_BG < 0:\n",
    "                rl_BG.append(f_BG)\n",
    "            else:\n",
    "                rh_BG.append(f_BG)\n",
    "\n",
    "        LR = max(rl_BG)\n",
    "        HR = max(rh_BG)\n",
    "        ADDR_daily.append(LR+HR)\n",
    "\n",
    "\n",
    "    return round(mean(ADDR_daily),3)\n",
    "        "
   ]
  },
  {
   "cell_type": "code",
   "execution_count": 51,
   "metadata": {},
   "outputs": [
    {
     "data": {
      "text/plain": [
       "3.174"
      ]
     },
     "execution_count": 51,
     "metadata": {},
     "output_type": "execute_result"
    }
   ],
   "source": [
    "adrr(data, 'mg')"
   ]
  },
  {
   "cell_type": "code",
   "execution_count": 55,
   "metadata": {},
   "outputs": [],
   "source": [
    "def modd(data):\n",
    "\n",
    "    data = subSample(data)\n",
    "    data['Display Time'] = data['Display Time'].dt.round('5min') \n",
    "\n",
    "    times = []\n",
    "    for i in range(len(data.index)):\n",
    "        times.append(data['Display Time'][i].time())\n",
    "    data['Time'] = times  \n",
    "\n",
    "\n",
    "    Modd = [] \n",
    "    s = 0\n",
    "    gvDiff = 0\n",
    "\n",
    "    for Time, df in data.groupby('Time'):\n",
    "        gvDiff = df['GlucoseValue'] - df['GlucoseValue'].shift(-1)\n",
    "        s = round(gvDiff.sum(),3)\n",
    "        Modd.append(s)\n",
    "    return round(mean(Modd),3) "
   ]
  },
  {
   "cell_type": "code",
   "execution_count": 56,
   "metadata": {},
   "outputs": [
    {
     "data": {
      "text/plain": [
       "4.49"
      ]
     },
     "execution_count": 56,
     "metadata": {},
     "output_type": "execute_result"
    }
   ],
   "source": [
    "modd(data)"
   ]
  },
  {
   "cell_type": "code",
   "execution_count": 61,
   "metadata": {},
   "outputs": [],
   "source": [
    "def congaN(df, n):\n",
    "\n",
    "    day = df['Display Time'].iloc[-1]-df['Display Time'].iloc[0]\n",
    "    day = day.round(\"d\")\n",
    "    day = day.days\n",
    "\n",
    "    df = df.set_index(['Display Time'])\n",
    "    t = str(n*3600)+'s'\n",
    "    gv = df['GlucoseValue'].resample(t).first()\n",
    "\n",
    "    k = len(gv)\n",
    "\n",
    "    frame = pd.DataFrame()\n",
    "    frame['GV'] = gv\n",
    "    frame['Dt'] = frame['GV'] - frame['GV'].shift(+1)\n",
    "    frame = frame.fillna(0)\n",
    "\n",
    "    dBar = sum(frame['Dt']) / k\n",
    "\n",
    "    s = 0\n",
    "    for i in frame['Dt']:\n",
    "        s += (i-dBar)**2\n",
    "\n",
    "    conga = math.sqrt(s/(k-1))\n",
    "\n",
    "    return round(conga/day, 3)"
   ]
  },
  {
   "cell_type": "code",
   "execution_count": 62,
   "metadata": {},
   "outputs": [
    {
     "data": {
      "text/plain": [
       "1.86"
      ]
     },
     "execution_count": 62,
     "metadata": {},
     "output_type": "execute_result"
    }
   ],
   "source": [
    "congaN(data,24)"
   ]
  },
  {
   "cell_type": "code",
   "execution_count": null,
   "metadata": {},
   "outputs": [],
   "source": []
  }
 ],
 "metadata": {
  "kernelspec": {
   "display_name": "Python 3",
   "language": "python",
   "name": "python3"
  },
  "language_info": {
   "codemirror_mode": {
    "name": "ipython",
    "version": 3
   },
   "file_extension": ".py",
   "mimetype": "text/x-python",
   "name": "python",
   "nbconvert_exporter": "python",
   "pygments_lexer": "ipython3",
   "version": "3.7.4"
  }
 },
 "nbformat": 4,
 "nbformat_minor": 2
}
