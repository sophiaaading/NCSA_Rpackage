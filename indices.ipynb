{
 "cells": [
  {
   "cell_type": "code",
   "execution_count": 1,
   "metadata": {},
   "outputs": [],
   "source": [
    "import numpy as np\n",
    "import pandas as pd\n",
    "import matplotlib.pyplot as plt\n",
    "from scipy.signal import argrelextrema\n",
    "from datetime import datetime"
   ]
  },
  {
   "cell_type": "code",
   "execution_count": 2,
   "metadata": {},
   "outputs": [],
   "source": [
    "data = pd.read_csv(\"/Users/yuxiding/Desktop/dataset.s010\", sep=\"\\t\")"
   ]
  },
  {
   "cell_type": "code",
   "execution_count": 3,
   "metadata": {},
   "outputs": [],
   "source": [
    "diabetic = data[data['subjectId'] == \"1636-69-001\"]\n",
    "prediabetic = data[data['subjectId'] == \"1636-69-114\"]\n",
    "non_diabetic = data[data['subjectId'] == \"1636-69-028\"]"
   ]
  },
  {
   "cell_type": "code",
   "execution_count": 4,
   "metadata": {},
   "outputs": [
    {
     "data": {
      "text/html": [
       "<div>\n",
       "<style scoped>\n",
       "    .dataframe tbody tr th:only-of-type {\n",
       "        vertical-align: middle;\n",
       "    }\n",
       "\n",
       "    .dataframe tbody tr th {\n",
       "        vertical-align: top;\n",
       "    }\n",
       "\n",
       "    .dataframe thead th {\n",
       "        text-align: right;\n",
       "    }\n",
       "</style>\n",
       "<table border=\"1\" class=\"dataframe\">\n",
       "  <thead>\n",
       "    <tr style=\"text-align: right;\">\n",
       "      <th></th>\n",
       "      <th>DisplayTime</th>\n",
       "      <th>GlucoseValue</th>\n",
       "      <th>subjectId</th>\n",
       "    </tr>\n",
       "  </thead>\n",
       "  <tbody>\n",
       "    <tr>\n",
       "      <td>0</td>\n",
       "      <td>2014-02-03 03:42:12</td>\n",
       "      <td>93</td>\n",
       "      <td>1636-69-001</td>\n",
       "    </tr>\n",
       "    <tr>\n",
       "      <td>1</td>\n",
       "      <td>2014-02-03 03:47:12</td>\n",
       "      <td>93</td>\n",
       "      <td>1636-69-001</td>\n",
       "    </tr>\n",
       "    <tr>\n",
       "      <td>2</td>\n",
       "      <td>2014-02-03 03:52:12</td>\n",
       "      <td>93</td>\n",
       "      <td>1636-69-001</td>\n",
       "    </tr>\n",
       "    <tr>\n",
       "      <td>3</td>\n",
       "      <td>2014-02-03 03:57:12</td>\n",
       "      <td>95</td>\n",
       "      <td>1636-69-001</td>\n",
       "    </tr>\n",
       "    <tr>\n",
       "      <td>4</td>\n",
       "      <td>2014-02-03 04:02:12</td>\n",
       "      <td>96</td>\n",
       "      <td>1636-69-001</td>\n",
       "    </tr>\n",
       "    <tr>\n",
       "      <td>...</td>\n",
       "      <td>...</td>\n",
       "      <td>...</td>\n",
       "      <td>...</td>\n",
       "    </tr>\n",
       "    <tr>\n",
       "      <td>1841</td>\n",
       "      <td>2015-04-02 14:48:06</td>\n",
       "      <td>115</td>\n",
       "      <td>1636-69-001</td>\n",
       "    </tr>\n",
       "    <tr>\n",
       "      <td>1842</td>\n",
       "      <td>2015-04-02 14:53:06</td>\n",
       "      <td>114</td>\n",
       "      <td>1636-69-001</td>\n",
       "    </tr>\n",
       "    <tr>\n",
       "      <td>1843</td>\n",
       "      <td>2015-04-02 14:58:06</td>\n",
       "      <td>117</td>\n",
       "      <td>1636-69-001</td>\n",
       "    </tr>\n",
       "    <tr>\n",
       "      <td>1844</td>\n",
       "      <td>2015-04-02 15:03:06</td>\n",
       "      <td>121</td>\n",
       "      <td>1636-69-001</td>\n",
       "    </tr>\n",
       "    <tr>\n",
       "      <td>1845</td>\n",
       "      <td>2015-04-02 15:08:06</td>\n",
       "      <td>119</td>\n",
       "      <td>1636-69-001</td>\n",
       "    </tr>\n",
       "  </tbody>\n",
       "</table>\n",
       "<p>1846 rows × 3 columns</p>\n",
       "</div>"
      ],
      "text/plain": [
       "              DisplayTime GlucoseValue    subjectId\n",
       "0     2014-02-03 03:42:12           93  1636-69-001\n",
       "1     2014-02-03 03:47:12           93  1636-69-001\n",
       "2     2014-02-03 03:52:12           93  1636-69-001\n",
       "3     2014-02-03 03:57:12           95  1636-69-001\n",
       "4     2014-02-03 04:02:12           96  1636-69-001\n",
       "...                   ...          ...          ...\n",
       "1841  2015-04-02 14:48:06          115  1636-69-001\n",
       "1842  2015-04-02 14:53:06          114  1636-69-001\n",
       "1843  2015-04-02 14:58:06          117  1636-69-001\n",
       "1844  2015-04-02 15:03:06          121  1636-69-001\n",
       "1845  2015-04-02 15:08:06          119  1636-69-001\n",
       "\n",
       "[1846 rows x 3 columns]"
      ]
     },
     "execution_count": 4,
     "metadata": {},
     "output_type": "execute_result"
    }
   ],
   "source": [
    "diabetic = diabetic.iloc[:, 0:3]\n",
    "diabetic"
   ]
  },
  {
   "cell_type": "code",
   "execution_count": 5,
   "metadata": {},
   "outputs": [],
   "source": [
    "#mean\n",
    "def meangv(gvdata, unit = 'mg'):\n",
    "    return np.average(gvdata['GlucoseValue'].astype(float))"
   ]
  },
  {
   "cell_type": "code",
   "execution_count": 6,
   "metadata": {},
   "outputs": [
    {
     "data": {
      "text/plain": [
       "108.22860238353196"
      ]
     },
     "execution_count": 6,
     "metadata": {},
     "output_type": "execute_result"
    }
   ],
   "source": [
    "meangv(diabetic)"
   ]
  },
  {
   "cell_type": "code",
   "execution_count": 104,
   "metadata": {},
   "outputs": [],
   "source": [
    "#mean value\n",
    "def mvalue(gvdata, referece_value = 90, unit = 'mg'):\n",
    "    gvdata['date'] = gvdata['DisplayTime']\n",
    "    \n",
    "    fmt_1 = '%Y-%m-%d %H:%M:%S'\n",
    "    fmt_2 = '%Y-%m-%d'\n",
    "    fmt_3 = '%Y-%m-%d %H:%M'\n",
    "    \n",
    "    \n",
    "    for i in range(len(gvdata)):\n",
    "        gvdata['date'][i] = datetime.strptime((gvdata['DisplayTime']).iloc[i], fmt_1).strftime(fmt_2)\n",
    "    \n",
    "    dict_of_date = {k: v for k, v in gvdata.groupby('date')}\n",
    "    \n",
    "        \n",
    "    day1 = datetime.strptime((datetime.strptime(gvdata['DisplayTime'][0], fmt_1)).strftime(fmt_3), fmt_3)\n",
    "    day2 = datetime.strptime((datetime.strptime(gvdata['DisplayTime'][len(gvdata['DisplayTime'])-1], fmt_1)).strftime(fmt_3), fmt_3)\n",
    "            \n",
    "    diff = day2 - day1           \n",
    "    days = diff.days\n",
    "                \n",
    "    \n",
    "    m_gr_list = []\n",
    "    m_w_list = []\n",
    "    m_list = []\n",
    "         \n",
    "    for j in range(len(dict_of_date)):\n",
    "        \n",
    "        key = list(dict_of_date.keys())[j]\n",
    "        value = dict_of_date.get(key)\n",
    "        \n",
    "        #unit\n",
    "        if (unit == 'mmol'):\n",
    "            value['GlucoseValue'] = (value['GlucoseValue']).astype(float) / 18\n",
    "        \n",
    "        #m_w\n",
    "        m_w = (float(np.max(value['GlucoseValue'])) - float(np.min(value['GlucoseValue']))) / 20\n",
    "        m_w_list.append(m_w)\n",
    "        \n",
    "        #m_gr\n",
    "        for m in value['GlucoseValue']:\n",
    "            m_gr = np.sum((np.absolute(10*np.log(float(m)/referece_value)))**3) / len(value['GlucoseValue'])\n",
    "        \n",
    "        m_gr_list.append(m_gr)\n",
    "        \n",
    "        if days < 1:\n",
    "            m_list.append(m_gr_list[j] + m_w_list[j])\n",
    "        else:\n",
    "            m_list.append(m_gr_list[j])\n",
    "            \n",
    "            \n",
    "    mvalue = np.average(m_list)\n",
    "                  \n",
    "    return mvalue\n",
    "        \n",
    "    "
   ]
  },
  {
   "cell_type": "code",
   "execution_count": 105,
   "metadata": {},
   "outputs": [
    {
     "name": "stdout",
     "output_type": "stream",
     "text": [
      "0.1536879044196218\n",
      "102.36108090147624\n"
     ]
    }
   ],
   "source": [
    "print(mvalue(diabetic, unit = 'mg'))\n",
    "print(mvalue(diabetic, unit = 'mmol'))"
   ]
  },
  {
   "cell_type": "code",
   "execution_count": 9,
   "metadata": {},
   "outputs": [],
   "source": [
    "#J-index\n",
    "def jindex(gvdata, unit = 'mg'):\n",
    "    \n",
    "    if (unit == 'mmol'):\n",
    "        gvdata['GlucoseValue'] = (gvdata['GlucoseValue']).astype(float) / 18\n",
    "        \n",
    "    mbg = np.average(gvdata['GlucoseValue'].astype(float))\n",
    "    sd = np.std(gvdata['GlucoseValue'].astype(float))\n",
    "    j = 0.324 * (mbg + sd) ** 2\n",
    "    return j"
   ]
  },
  {
   "cell_type": "code",
   "execution_count": 10,
   "metadata": {},
   "outputs": [
    {
     "name": "stdout",
     "output_type": "stream",
     "text": [
      "5950.7901669300545\n",
      "18.366636317685355\n"
     ]
    }
   ],
   "source": [
    "print(jindex(diabetic, unit = 'mg'))\n",
    "print(jindex(diabetic, unit = 'mmol'))"
   ]
  },
  {
   "cell_type": "code",
   "execution_count": 91,
   "metadata": {},
   "outputs": [],
   "source": [
    "def modd(gvdata, unit = 'mg', hour_ago = 24):\n",
    "    \n",
    "    if (unit == 'mmol'):\n",
    "        gvdata['GlucoseValue'] = (gvdata['GlucoseValue']).astype(float) / 18\n",
    "\n",
    "    gvdata['date'] = gvdata['DisplayTime']\n",
    "    gvdata['time'] = gvdata['DisplayTime']\n",
    "    \n",
    "    fmt_1 = '%Y-%m-%d %H:%M:%S'\n",
    "    fmt_2 = '%Y-%m-%d'\n",
    "    fmt_3 = '%Y-%m-%d %H:%M'\n",
    "    \n",
    "    for i in range(len(gvdata)):\n",
    "        gvdata['date'][i] = datetime.strptime((gvdata['DisplayTime']).iloc[i], fmt_1).strftime(fmt_2)\n",
    "    \n",
    "    dict_of_date = {k: v for k, v in gvdata.groupby('date')}\n",
    "\n",
    "    modd_list = []\n",
    "    for j in range(len(dict_of_date)-1):\n",
    "        \n",
    "        key_day1 = list(dict_of_date.keys())[j]\n",
    "        value_day1 = dict_of_date.get(key_day1)\n",
    "    \n",
    "        \n",
    "        key_day2 = list(dict_of_date.keys())[j+1]\n",
    "        value_day2 = dict_of_date.get(key_day2)\n",
    "    \n",
    "        gr_list = []\n",
    "        index_day1 = []\n",
    "        index_day2 = []\n",
    "    \n",
    "        for k in value_day1['DisplayTime']:\n",
    "            for m in value_day2['DisplayTime']:\n",
    "                day1 = datetime.strptime((datetime.strptime(k, fmt_1)).strftime(fmt_3), fmt_3)\n",
    "                day2 = datetime.strptime((datetime.strptime(m, fmt_1)).strftime(fmt_3), fmt_3)\n",
    "            \n",
    "                diff = day2 - day1\n",
    "            \n",
    "                days = diff.days\n",
    "                secs = diff.seconds\n",
    "\n",
    "                if days == 1 and secs == 0:\n",
    "\n",
    "                    index_day1.append((value_day1['DisplayTime'].index[value_day1.DisplayTime == k])[0])\n",
    "                    index_day2.append((value_day2['DisplayTime'].index[value_day2.DisplayTime == m])[0])\n",
    "                \n",
    "                \n",
    "        for n in range(len(list(index_day1))):\n",
    "            gr_list.append(np.absolute(float(value_day1['GlucoseValue'][index_day1[n]]) - float(value_day2['GlucoseValue'][index_day2[n]])))\n",
    "        modd_list.append(np.average(gr_list))   \n",
    "\n",
    "    modd_list = [modd for modd in modd_list if str(modd) != 'nan']\n",
    "    modd_value = np.average(modd_list)\n",
    "    \n",
    "    return modd_value\n",
    "\n"
   ]
  },
  {
   "cell_type": "code",
   "execution_count": 92,
   "metadata": {},
   "outputs": [
    {
     "data": {
      "text/plain": [
       "24.629513396318345"
      ]
     },
     "execution_count": 92,
     "metadata": {},
     "output_type": "execute_result"
    }
   ],
   "source": [
    "modd(diabetic)"
   ]
  },
  {
   "cell_type": "code",
   "execution_count": 111,
   "metadata": {},
   "outputs": [],
   "source": [
    "def conga(gvdata, n = 1, unit = 'mg'):\n",
    "    \n",
    "    if (unit == 'mmol'):\n",
    "        gvdata['GlucoseValue'] = (gvdata['GlucoseValue']).astype(float) / 18\n",
    "        \n",
    "    gv = gvdata['GlucoseValue']\n",
    "    diff = []\n",
    "    for i in range(len(gvdata)):\n",
    "        for j in range(i+1, len(gvdata)):\n",
    "            fmt_1 = '%Y-%m-%d %H:%M:%S'\n",
    "            fmt_2 = '%Y-%m-%d %H:%M'\n",
    "            \n",
    "            time = gvdata['DisplayTime']\n",
    "            t1 = datetime.strptime((datetime.strptime(time.iloc[i], fmt_1)).strftime(fmt_2), fmt_2)\n",
    "            t2 = datetime.strptime((datetime.strptime(time.iloc[j], fmt_1)).strftime(fmt_2), fmt_2)\n",
    "            tdelta = t2 - t1\n",
    "            t_diff = tdelta.seconds\n",
    "            \n",
    "            if t_diff == n*60*60:\n",
    "                diff.append(int(gv.iloc[j]) - int(gv.iloc[i]))\n",
    "            std_diff = np.std(diff, axis=0)\n",
    "    print(std_diff)\n",
    "            \n",
    "    \n",
    "    \n",
    "    "
   ]
  },
  {
   "cell_type": "code",
   "execution_count": 112,
   "metadata": {},
   "outputs": [
    {
     "name": "stderr",
     "output_type": "stream",
     "text": [
      "/opt/anaconda3/lib/python3.7/site-packages/numpy/core/_methods.py:217: RuntimeWarning: Degrees of freedom <= 0 for slice\n",
      "  keepdims=keepdims)\n",
      "/opt/anaconda3/lib/python3.7/site-packages/numpy/core/_methods.py:186: RuntimeWarning: invalid value encountered in true_divide\n",
      "  arrmean, rcount, out=arrmean, casting='unsafe', subok=False)\n",
      "/opt/anaconda3/lib/python3.7/site-packages/numpy/core/_methods.py:209: RuntimeWarning: invalid value encountered in double_scalars\n",
      "  ret = ret.dtype.type(ret / rcount)\n"
     ]
    },
    {
     "name": "stdout",
     "output_type": "stream",
     "text": [
      "33.33609739776171\n"
     ]
    }
   ],
   "source": [
    "conga(diabetic)"
   ]
  },
  {
   "cell_type": "code",
   "execution_count": 115,
   "metadata": {},
   "outputs": [],
   "source": [
    "def grade(gvdata, n = 1, unit = 'mg'):\n",
    "    if (unit == 'mmol'):\n",
    "        gvdata['GlucoseValue'] = (gvdata['GlucoseValue']).astype(float) / 18\n",
    "        \n",
    "    grade_list = []\n",
    "    for x in gvdata['GlucoseValue']:\n",
    "        grade = 425 * (np.log(np.log(float(x))) + 0.16) ** 2\n",
    "        grade_list.append(grade)\n",
    "        \n",
    "    grade_value = np.average(grade_list)\n",
    "    return grade_value\n",
    "    "
   ]
  },
  {
   "cell_type": "code",
   "execution_count": 116,
   "metadata": {},
   "outputs": [
    {
     "data": {
      "text/plain": [
       "1225.2193158838713"
      ]
     },
     "execution_count": 116,
     "metadata": {},
     "output_type": "execute_result"
    }
   ],
   "source": [
    "grade(diabetic)"
   ]
  },
  {
   "cell_type": "code",
   "execution_count": null,
   "metadata": {},
   "outputs": [],
   "source": []
  }
 ],
 "metadata": {
  "kernelspec": {
   "display_name": "Python 3",
   "language": "python",
   "name": "python3"
  },
  "language_info": {
   "codemirror_mode": {
    "name": "ipython",
    "version": 3
   },
   "file_extension": ".py",
   "mimetype": "text/x-python",
   "name": "python",
   "nbconvert_exporter": "python",
   "pygments_lexer": "ipython3",
   "version": "3.7.4"
  }
 },
 "nbformat": 4,
 "nbformat_minor": 2
}
