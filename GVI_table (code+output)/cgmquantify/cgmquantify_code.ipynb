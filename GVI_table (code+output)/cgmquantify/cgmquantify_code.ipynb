{
 "cells": [
  {
   "cell_type": "code",
   "execution_count": 1,
   "metadata": {},
   "outputs": [],
   "source": [
    "import numpy as np\n",
    "import pandas as pd\n",
    "import math"
   ]
  },
  {
   "cell_type": "markdown",
   "metadata": {},
   "source": [
    "cgmquantify"
   ]
  },
  {
   "cell_type": "code",
   "execution_count": 2,
   "metadata": {},
   "outputs": [],
   "source": [
    "#pip install git+git://github.com/brinnaebent/cgmquantify.git\n",
    "#pip install \"cgmquantify\"\n",
    "import cgmquantify as cgm"
   ]
  },
  {
   "cell_type": "code",
   "execution_count": 3,
   "metadata": {},
   "outputs": [],
   "source": [
    "df = pd.read_csv(\"/Users/yuxiding/Desktop/dataset.s010\", sep=\"\\t\")\n",
    "data = pd.DataFrame()\n",
    "data['Time'] = df['DisplayTime']\n",
    "df = df[df.GlucoseValue != 'Low']\n",
    "data['Glucose'] = pd.to_numeric(df['GlucoseValue'])\n",
    "data['subjectId'] = df['subjectId']\n",
    "data['Time'] = pd.to_datetime(data['Time'], format='%Y-%m-%dT%H:%M:%S')\n",
    "type(data['Time'])\n",
    "data['Day'] = data['Time'].dt.day\n",
    "data = data.reset_index()\n",
    "\n",
    "diabetic = data[data['subjectId'] == \"1636-69-091\"]\n",
    "prediabetic = data[data['subjectId'] == \"1636-69-032\"]\n",
    "non_diabetic = data[data['subjectId'] == \"1636-69-028\"]"
   ]
  },
  {
   "cell_type": "code",
   "execution_count": 4,
   "metadata": {},
   "outputs": [],
   "source": [
    "day = [14,15,16,17,18]\n",
    "prediabetic = prediabetic[prediabetic['Day'].isin(day)]\n",
    "prediabetic\n",
    "\n",
    "prediabetic\n",
    "\n",
    "writer = pd.ExcelWriter(r'/Users/yuxiding/Desktop/prediabetic.xlsx', engine='xlsxwriter')\n",
    "prediabetic.to_excel(writer, sheet_name='pre')\n",
    "writer.save()"
   ]
  },
  {
   "cell_type": "code",
   "execution_count": 5,
   "metadata": {},
   "outputs": [
    {
     "name": "stderr",
     "output_type": "stream",
     "text": [
      "/opt/anaconda3/lib/python3.7/site-packages/pandas/core/ops/__init__.py:1115: FutureWarning: elementwise comparison failed; returning scalar instead, but in the future will perform elementwise comparison\n",
      "  result = method(y)\n"
     ]
    },
    {
     "data": {
      "text/html": [
       "<div>\n",
       "<style scoped>\n",
       "    .dataframe tbody tr th:only-of-type {\n",
       "        vertical-align: middle;\n",
       "    }\n",
       "\n",
       "    .dataframe tbody tr th {\n",
       "        vertical-align: top;\n",
       "    }\n",
       "\n",
       "    .dataframe thead th {\n",
       "        text-align: right;\n",
       "    }\n",
       "</style>\n",
       "<table border=\"1\" class=\"dataframe\">\n",
       "  <thead>\n",
       "    <tr style=\"text-align: right;\">\n",
       "      <th></th>\n",
       "      <th>index</th>\n",
       "      <th>Time</th>\n",
       "      <th>Glucose</th>\n",
       "      <th>subjectId</th>\n",
       "      <th>Day</th>\n",
       "    </tr>\n",
       "  </thead>\n",
       "  <tbody>\n",
       "    <tr>\n",
       "      <td>0</td>\n",
       "      <td>0</td>\n",
       "      <td>2016-01-14 00:03:15</td>\n",
       "      <td>120</td>\n",
       "      <td>1636-69-032</td>\n",
       "      <td>14</td>\n",
       "    </tr>\n",
       "    <tr>\n",
       "      <td>1</td>\n",
       "      <td>1</td>\n",
       "      <td>2016-01-14 00:08:15</td>\n",
       "      <td>120</td>\n",
       "      <td>1636-69-032</td>\n",
       "      <td>14</td>\n",
       "    </tr>\n",
       "    <tr>\n",
       "      <td>2</td>\n",
       "      <td>2</td>\n",
       "      <td>2016-01-14 00:13:15</td>\n",
       "      <td>123</td>\n",
       "      <td>1636-69-032</td>\n",
       "      <td>14</td>\n",
       "    </tr>\n",
       "    <tr>\n",
       "      <td>3</td>\n",
       "      <td>3</td>\n",
       "      <td>2016-01-14 00:18:15</td>\n",
       "      <td>126</td>\n",
       "      <td>1636-69-032</td>\n",
       "      <td>14</td>\n",
       "    </tr>\n",
       "    <tr>\n",
       "      <td>4</td>\n",
       "      <td>4</td>\n",
       "      <td>2016-01-14 00:23:15</td>\n",
       "      <td>127</td>\n",
       "      <td>1636-69-032</td>\n",
       "      <td>14</td>\n",
       "    </tr>\n",
       "    <tr>\n",
       "      <td>...</td>\n",
       "      <td>...</td>\n",
       "      <td>...</td>\n",
       "      <td>...</td>\n",
       "      <td>...</td>\n",
       "      <td>...</td>\n",
       "    </tr>\n",
       "    <tr>\n",
       "      <td>1434</td>\n",
       "      <td>1434</td>\n",
       "      <td>2016-01-18 23:37:52</td>\n",
       "      <td>136</td>\n",
       "      <td>1636-69-032</td>\n",
       "      <td>18</td>\n",
       "    </tr>\n",
       "    <tr>\n",
       "      <td>1435</td>\n",
       "      <td>1435</td>\n",
       "      <td>2016-01-18 23:42:52</td>\n",
       "      <td>126</td>\n",
       "      <td>1636-69-032</td>\n",
       "      <td>18</td>\n",
       "    </tr>\n",
       "    <tr>\n",
       "      <td>1436</td>\n",
       "      <td>1436</td>\n",
       "      <td>2016-01-18 23:47:52</td>\n",
       "      <td>132</td>\n",
       "      <td>1636-69-032</td>\n",
       "      <td>18</td>\n",
       "    </tr>\n",
       "    <tr>\n",
       "      <td>1437</td>\n",
       "      <td>1437</td>\n",
       "      <td>2016-01-18 23:52:52</td>\n",
       "      <td>135</td>\n",
       "      <td>1636-69-032</td>\n",
       "      <td>18</td>\n",
       "    </tr>\n",
       "    <tr>\n",
       "      <td>1438</td>\n",
       "      <td>1438</td>\n",
       "      <td>2016-01-18 23:57:52</td>\n",
       "      <td>128</td>\n",
       "      <td>1636-69-032</td>\n",
       "      <td>18</td>\n",
       "    </tr>\n",
       "  </tbody>\n",
       "</table>\n",
       "<p>1439 rows × 5 columns</p>\n",
       "</div>"
      ],
      "text/plain": [
       "      index                Time  Glucose    subjectId  Day\n",
       "0         0 2016-01-14 00:03:15      120  1636-69-032   14\n",
       "1         1 2016-01-14 00:08:15      120  1636-69-032   14\n",
       "2         2 2016-01-14 00:13:15      123  1636-69-032   14\n",
       "3         3 2016-01-14 00:18:15      126  1636-69-032   14\n",
       "4         4 2016-01-14 00:23:15      127  1636-69-032   14\n",
       "...     ...                 ...      ...          ...  ...\n",
       "1434   1434 2016-01-18 23:37:52      136  1636-69-032   18\n",
       "1435   1435 2016-01-18 23:42:52      126  1636-69-032   18\n",
       "1436   1436 2016-01-18 23:47:52      132  1636-69-032   18\n",
       "1437   1437 2016-01-18 23:52:52      135  1636-69-032   18\n",
       "1438   1438 2016-01-18 23:57:52      128  1636-69-032   18\n",
       "\n",
       "[1439 rows x 5 columns]"
      ]
     },
     "execution_count": 5,
     "metadata": {},
     "output_type": "execute_result"
    }
   ],
   "source": [
    "df = pd.read_csv(\"~/Desktop/prediabetic.csv\")\n",
    "data = pd.DataFrame()\n",
    "data['Time'] = df['Display Time']\n",
    "df = df[df.GlucoseValue != 'Low']\n",
    "data['Glucose'] = pd.to_numeric(df['GlucoseValue'])\n",
    "data['subjectId'] = df['subjectId']\n",
    "data['Time'] = pd.to_datetime(data['Time'], format='%Y-%m-%dT%H:%M:%S')\n",
    "type(data['Time'])\n",
    "data['Day'] = data['Time'].dt.day\n",
    "data = data.reset_index()\n",
    "prediabetic = data\n",
    "prediabetic "
   ]
  },
  {
   "cell_type": "code",
   "execution_count": 8,
   "metadata": {},
   "outputs": [],
   "source": [
    "def interdaycv(df):\n",
    "    cvx = (np.std(df['Glucose']) / (np.mean(df['Glucose'])))*100\n",
    "    return cvx"
   ]
  },
  {
   "cell_type": "code",
   "execution_count": 9,
   "metadata": {},
   "outputs": [
    {
     "data": {
      "text/plain": [
       "13.387176917490685"
      ]
     },
     "execution_count": 9,
     "metadata": {},
     "output_type": "execute_result"
    }
   ],
   "source": [
    "interdaycv(prediabetic)"
   ]
  },
  {
   "cell_type": "code",
   "execution_count": 10,
   "metadata": {},
   "outputs": [],
   "source": [
    "def interdaysd(df):\n",
    "    interdaysd = np.std(df['Glucose'])\n",
    "    return interdaysd"
   ]
  },
  {
   "cell_type": "code",
   "execution_count": 11,
   "metadata": {},
   "outputs": [
    {
     "data": {
      "text/plain": [
       "14.322790803934074"
      ]
     },
     "execution_count": 11,
     "metadata": {},
     "output_type": "execute_result"
    }
   ],
   "source": [
    "interdaysd(prediabetic)"
   ]
  },
  {
   "cell_type": "code",
   "execution_count": 12,
   "metadata": {},
   "outputs": [],
   "source": [
    "def intradaycv(df):\n",
    "    intradaycv = []\n",
    "    for i in pd.unique(df['Day']):\n",
    "        intradaycv.append(interdaycv(df[df['Day']==i]))\n",
    "    \n",
    "    intradaycv_mean = np.mean(intradaycv)\n",
    "    intradaycv_median = np.median(intradaycv)\n",
    "    intradaycv_sd = np.std(intradaycv)\n",
    "    \n",
    "    return intradaycv_mean, intradaycv_median, intradaycv_sd"
   ]
  },
  {
   "cell_type": "code",
   "execution_count": 13,
   "metadata": {},
   "outputs": [
    {
     "data": {
      "text/plain": [
       "(12.381010442444515, 11.294859971428705, 3.712190236384616)"
      ]
     },
     "execution_count": 13,
     "metadata": {},
     "output_type": "execute_result"
    }
   ],
   "source": [
    "intradaycv(prediabetic)"
   ]
  },
  {
   "cell_type": "code",
   "execution_count": 15,
   "metadata": {},
   "outputs": [],
   "source": [
    "def intradaysd(df):\n",
    "    intradaysd =[]\n",
    "\n",
    "    for i in pd.unique(df['Day']):\n",
    "        intradaysd.append(np.std(df[df['Day']==i]))\n",
    "    \n",
    "    intradaysd_mean = np.mean(intradaysd)\n",
    "    intradaysd_median = np.median(intradaysd)\n",
    "    intradaysd_sd = np.std(intradaysd)\n",
    "    return intradaysd_mean, intradaysd_median, intradaysd_sd"
   ]
  },
  {
   "cell_type": "code",
   "execution_count": 16,
   "metadata": {},
   "outputs": [
    {
     "data": {
      "text/plain": [
       "(32.08012199049869, 11.988321783389814, 36.522124573703955)"
      ]
     },
     "execution_count": 16,
     "metadata": {},
     "output_type": "execute_result"
    }
   ],
   "source": [
    "intradaysd(prediabetic)"
   ]
  },
  {
   "cell_type": "code",
   "execution_count": 17,
   "metadata": {},
   "outputs": [],
   "source": [
    "def TIR(df, sd=1, sr=5):\n",
    "    up = np.mean(df['Glucose']) + sd*np.std(df['Glucose'])\n",
    "    dw = np.mean(df['Glucose']) - sd*np.std(df['Glucose'])\n",
    "    TIR = len(df[(df['Glucose']<= up) & (df['Glucose']>= dw)])*sr \n",
    "    return TIR"
   ]
  },
  {
   "cell_type": "code",
   "execution_count": 18,
   "metadata": {},
   "outputs": [
    {
     "data": {
      "text/plain": [
       "5025"
      ]
     },
     "execution_count": 18,
     "metadata": {},
     "output_type": "execute_result"
    }
   ],
   "source": [
    "TIR(prediabetic, sd=1, sr=5)"
   ]
  },
  {
   "cell_type": "code",
   "execution_count": 20,
   "metadata": {},
   "outputs": [],
   "source": [
    "def TOR(df, sd=1, sr=5):\n",
    "    up = np.mean(df['Glucose']) + sd*np.std(df['Glucose'])\n",
    "    dw = np.mean(df['Glucose']) - sd*np.std(df['Glucose'])\n",
    "    TOR = len(df[(df['Glucose']>= up) | (df['Glucose']<= dw)])*sr\n",
    "    return TOR"
   ]
  },
  {
   "cell_type": "code",
   "execution_count": 21,
   "metadata": {},
   "outputs": [
    {
     "data": {
      "text/plain": [
       "2170"
      ]
     },
     "execution_count": 21,
     "metadata": {},
     "output_type": "execute_result"
    }
   ],
   "source": [
    "TOR(prediabetic, sd=1, sr=5)"
   ]
  },
  {
   "cell_type": "code",
   "execution_count": 22,
   "metadata": {},
   "outputs": [],
   "source": [
    "def POR(df, sd=1, sr=5):\n",
    "    up = np.mean(df['Glucose']) + sd*np.std(df['Glucose'])\n",
    "    dw = np.mean(df['Glucose']) - sd*np.std(df['Glucose'])\n",
    "    TOR = len(df[(df['Glucose']>= up) | (df['Glucose']<= dw)])*sr\n",
    "    POR = (TOR/(len(df)*sr))*100\n",
    "    return POR"
   ]
  },
  {
   "cell_type": "code",
   "execution_count": 23,
   "metadata": {},
   "outputs": [
    {
     "data": {
      "text/plain": [
       "30.159833217512162"
      ]
     },
     "execution_count": 23,
     "metadata": {},
     "output_type": "execute_result"
    }
   ],
   "source": [
    "POR(prediabetic, sd=1, sr=5)"
   ]
  },
  {
   "cell_type": "code",
   "execution_count": 24,
   "metadata": {},
   "outputs": [],
   "source": [
    "def MAGE(df, sd=1):\n",
    "    up = np.mean(df['Glucose']) + sd*np.std(df['Glucose'])\n",
    "    dw = np.mean(df['Glucose']) - sd*np.std(df['Glucose'])\n",
    "    MAGE = np.mean(df[(df['Glucose']>= up) | (df['Glucose']<= dw)])\n",
    "    return MAGE"
   ]
  },
  {
   "cell_type": "code",
   "execution_count": 47,
   "metadata": {},
   "outputs": [
    {
     "data": {
      "text/plain": [
       "index         659.502304\n",
       "Glucose       107.889401\n",
       "Day            15.843318\n",
       "Minfrommid    646.755760\n",
       "dtype: float64"
      ]
     },
     "execution_count": 47,
     "metadata": {},
     "output_type": "execute_result"
    }
   ],
   "source": [
    "cgm.MAGE(prediabetic)"
   ]
  },
  {
   "cell_type": "code",
   "execution_count": 25,
   "metadata": {},
   "outputs": [
    {
     "data": {
      "text/plain": [
       "index      659.502304\n",
       "Glucose    107.889401\n",
       "Day         15.843318\n",
       "dtype: float64"
      ]
     },
     "execution_count": 25,
     "metadata": {},
     "output_type": "execute_result"
    }
   ],
   "source": [
    "MAGE(prediabetic, sd=1)"
   ]
  },
  {
   "cell_type": "code",
   "execution_count": 30,
   "metadata": {},
   "outputs": [],
   "source": [
    "def MAGN(df, sd=1):\n",
    "    up = np.mean(df['Glucose']) + sd*np.std(df['Glucose'])\n",
    "    dw = np.mean(df['Glucose']) - sd*np.std(df['Glucose'])\n",
    "    MAGN = np.mean(df[(df['Glucose']<= up) & (df['Glucose']>= dw)])\n",
    "    return MAGN"
   ]
  },
  {
   "cell_type": "code",
   "execution_count": 31,
   "metadata": {},
   "outputs": [
    {
     "data": {
      "text/plain": [
       "index      744.693532\n",
       "Glucose    106.600000\n",
       "Day         16.065672\n",
       "dtype: float64"
      ]
     },
     "execution_count": 31,
     "metadata": {},
     "output_type": "execute_result"
    }
   ],
   "source": [
    "MAGN(prediabetic, sd=1)"
   ]
  },
  {
   "cell_type": "code",
   "execution_count": 32,
   "metadata": {},
   "outputs": [],
   "source": [
    "def J_index(df):\n",
    "    J = 0.001*((np.mean(df['Glucose'])+np.std(df['Glucose']))**2)\n",
    "    return J"
   ]
  },
  {
   "cell_type": "code",
   "execution_count": 33,
   "metadata": {},
   "outputs": [
    {
     "data": {
      "text/plain": [
       "14.716521756499343"
      ]
     },
     "execution_count": 33,
     "metadata": {},
     "output_type": "execute_result"
    }
   ],
   "source": [
    "J_index(prediabetic)"
   ]
  },
  {
   "cell_type": "code",
   "execution_count": 40,
   "metadata": {},
   "outputs": [],
   "source": [
    "def LBGI_HBGI(df):\n",
    "    f = ((np.log(df['Glucose'])**1.084) - 5.381)\n",
    "    rl = []\n",
    "    for i in f: \n",
    "        if (i <= 0):\n",
    "            rl.append(22.77*(i**2))\n",
    "        else:\n",
    "            rl.append(0)\n",
    "\n",
    "    LBGI = np.mean(rl)\n",
    "\n",
    "    rh = []\n",
    "    for i in f: \n",
    "        if (i > 0):\n",
    "            rh.append(22.77*(i**2))\n",
    "        else:\n",
    "            rh.append(0)\n",
    "\n",
    "    HBGI = np.mean(rh)\n",
    "    \n",
    "    return LBGI, HBGI, rh, rl\n"
   ]
  },
  {
   "cell_type": "code",
   "execution_count": 37,
   "metadata": {},
   "outputs": [
    {
     "data": {
      "text/plain": [
       "(0.6026933246633753, 0.14138933943859747)"
      ]
     },
     "execution_count": 37,
     "metadata": {},
     "output_type": "execute_result"
    }
   ],
   "source": [
    "LBGI_HBGI(prediabetic)"
   ]
  },
  {
   "cell_type": "code",
   "execution_count": 41,
   "metadata": {},
   "outputs": [],
   "source": [
    "def ADRR(df):\n",
    "    ADRRl = []\n",
    "    for i in pd.unique(df['Day']):\n",
    "        LBGI, HBGI, rh, rl = LBGI_HBGI(df[df['Day']==i])\n",
    "        LR = np.max(rl)\n",
    "        HR = np.max(rh)\n",
    "        ADRRl.append(LR+HR)\n",
    "\n",
    "    ADRRx = np.mean(ADRRl)\n",
    "    return ADRRx"
   ]
  },
  {
   "cell_type": "code",
   "execution_count": 42,
   "metadata": {},
   "outputs": [
    {
     "data": {
      "text/plain": [
       "7.213358275339132"
      ]
     },
     "execution_count": 42,
     "metadata": {},
     "output_type": "execute_result"
    }
   ],
   "source": [
    "ADRR(prediabetic)"
   ]
  },
  {
   "cell_type": "code",
   "execution_count": 43,
   "metadata": {},
   "outputs": [],
   "source": [
    "def MODD(df):\n",
    "    df['Timefrommidnight'] =  df['Time'].dt.time\n",
    "    lists=[]\n",
    "    for i in range(0, len(df['Timefrommidnight'])):\n",
    "        lists.append(int(df['Timefrommidnight'].iloc[i].strftime('%H:%M:%S')[0:2])*60 + int(df['Timefrommidnight'].iloc[i].strftime('%H:%M:%S')[3:5]) + round(int(df['Timefrommidnight'].iloc[i].strftime('%H:%M:%S')[6:9])/60))\n",
    "    df['Minfrommid'] = lists\n",
    "    df = df.drop(columns=['Timefrommidnight'])\n",
    "    \n",
    "    #Calculation of MODD and CONGA:\n",
    "    MODD_n = []\n",
    "    cgm.uniquetimes = df['Minfrommid'].unique()\n",
    "\n",
    "    for i in cgm.uniquetimes:\n",
    "        MODD_n.append(cgm.uniquevalfilter(df, i))\n",
    "    \n",
    "    #Remove zeros from dataframe for calculation (in case there are random unique values that result in a mean of 0)\n",
    "    MODD_n[MODD_n == 0] = np.nan\n",
    "    \n",
    "    MODD = np.nanmean(MODD_n)\n",
    "    return MODD"
   ]
  },
  {
   "cell_type": "code",
   "execution_count": 44,
   "metadata": {},
   "outputs": [
    {
     "data": {
      "text/plain": [
       "16.292973286875725"
      ]
     },
     "execution_count": 44,
     "metadata": {},
     "output_type": "execute_result"
    }
   ],
   "source": [
    "MODD(prediabetic)"
   ]
  },
  {
   "cell_type": "code",
   "execution_count": 45,
   "metadata": {},
   "outputs": [
    {
     "data": {
      "text/plain": [
       "5.902308483766035"
      ]
     },
     "execution_count": 45,
     "metadata": {},
     "output_type": "execute_result"
    }
   ],
   "source": [
    "def CONGA24(df):\n",
    "    df['Timefrommidnight'] =  df['Time'].dt.time\n",
    "    lists=[]\n",
    "    for i in range(0, len(df['Timefrommidnight'])):\n",
    "        lists.append(int(df['Timefrommidnight'].iloc[i].strftime('%H:%M:%S')[0:2])*60 + int(df['Timefrommidnight'].iloc[i].strftime('%H:%M:%S')[3:5]) + round(int(df['Timefrommidnight'].iloc[i].strftime('%H:%M:%S')[6:9])/60))\n",
    "    df['Minfrommid'] = lists\n",
    "    df = df.drop(columns=['Timefrommidnight'])\n",
    "    \n",
    "    #Calculation of MODD and CONGA:\n",
    "    MODD_n = []\n",
    "    uniquetimes = df['Minfrommid'].unique()\n",
    "\n",
    "    for i in cgm.uniquetimes:\n",
    "        MODD_n.append(cgm.uniquevalfilter(df, i))\n",
    "    \n",
    "    #Remove zeros from dataframe for calculation (in case there are random unique values that result in a mean of 0)\n",
    "    MODD_n[MODD_n == 0] = np.nan\n",
    "    \n",
    "    CONGA24 = np.nanstd(MODD_n)\n",
    "    return CONGA24\n",
    "\n",
    "\n",
    "CONGA24(prediabetic)"
   ]
  },
  {
   "cell_type": "code",
   "execution_count": 49,
   "metadata": {},
   "outputs": [],
   "source": [
    "def GMI(df):\n",
    "    GMI = 3.31 + (0.02392*np.mean(df['Glucose']))\n",
    "    return GMI"
   ]
  },
  {
   "cell_type": "code",
   "execution_count": 50,
   "metadata": {},
   "outputs": [
    {
     "data": {
      "text/plain": [
       "5.86917403752606"
      ]
     },
     "execution_count": 50,
     "metadata": {},
     "output_type": "execute_result"
    }
   ],
   "source": [
    "GMI(prediabetic)"
   ]
  },
  {
   "cell_type": "code",
   "execution_count": 51,
   "metadata": {},
   "outputs": [],
   "source": [
    "def eA1c(df):\n",
    "    eA1c = (46.7 + np.mean(df['Glucose']))/ 28.7 \n",
    "    return eA1c"
   ]
  },
  {
   "cell_type": "code",
   "execution_count": 52,
   "metadata": {},
   "outputs": [
    {
     "data": {
      "text/plain": [
       "5.355013281096774"
      ]
     },
     "execution_count": 52,
     "metadata": {},
     "output_type": "execute_result"
    }
   ],
   "source": [
    "eA1c(prediabetic)"
   ]
  },
  {
   "cell_type": "code",
   "execution_count": 53,
   "metadata": {},
   "outputs": [],
   "source": [
    "def summary(df):  \n",
    "    meanG = np.nanmean(df['Glucose'])\n",
    "    medianG = np.nanmedian(df['Glucose'])\n",
    "    minG = np.nanmin(df['Glucose'])\n",
    "    maxG = np.nanmax(df['Glucose'])\n",
    "    Q1G = np.nanpercentile(df['Glucose'], 25)\n",
    "    Q3G = np.nanpercentile(df['Glucose'], 75)\n",
    "    \n",
    "    return meanG, medianG, minG, maxG, Q1G, Q3G"
   ]
  },
  {
   "cell_type": "code",
   "execution_count": 54,
   "metadata": {},
   "outputs": [
    {
     "data": {
      "text/plain": [
       "(106.98888116747742, 107.0, 67, 156, 97.0, 116.0)"
      ]
     },
     "execution_count": 54,
     "metadata": {},
     "output_type": "execute_result"
    }
   ],
   "source": [
    "summary(prediabetic)"
   ]
  },
  {
   "cell_type": "code",
   "execution_count": 68,
   "metadata": {},
   "outputs": [
    {
     "data": {
      "text/plain": [
       "['ADRR',\n",
       " 'CONGA24',\n",
       " 'GMI',\n",
       " 'HBGI',\n",
       " 'J_index',\n",
       " 'LBGI',\n",
       " 'LBGI_HBGI',\n",
       " 'MAGE',\n",
       " 'MAGN',\n",
       " 'MODD',\n",
       " 'POR',\n",
       " 'TIR',\n",
       " 'TOR',\n",
       " '__builtins__',\n",
       " '__cached__',\n",
       " '__doc__',\n",
       " '__file__',\n",
       " '__loader__',\n",
       " '__name__',\n",
       " '__package__',\n",
       " '__path__',\n",
       " '__spec__',\n",
       " '__warningregistry__',\n",
       " 'datetime',\n",
       " 'eA1c',\n",
       " 'importdexcom',\n",
       " 'interdaycv',\n",
       " 'interdaysd',\n",
       " 'intradaycv',\n",
       " 'intradaysd',\n",
       " 'lowess',\n",
       " 'np',\n",
       " 'pd',\n",
       " 'plotglucosebounds',\n",
       " 'plotglucosesd',\n",
       " 'plotglucosesmooth',\n",
       " 'plt',\n",
       " 'summary',\n",
       " 'uniquetimes',\n",
       " 'uniquevalfilter']"
      ]
     },
     "execution_count": 68,
     "metadata": {},
     "output_type": "execute_result"
    }
   ],
   "source": [
    "dir(cgm)"
   ]
  },
  {
   "cell_type": "code",
   "execution_count": 135,
   "metadata": {},
   "outputs": [
    {
     "data": {
      "text/html": [
       "<div>\n",
       "<style scoped>\n",
       "    .dataframe tbody tr th:only-of-type {\n",
       "        vertical-align: middle;\n",
       "    }\n",
       "\n",
       "    .dataframe tbody tr th {\n",
       "        vertical-align: top;\n",
       "    }\n",
       "\n",
       "    .dataframe thead th {\n",
       "        text-align: right;\n",
       "    }\n",
       "</style>\n",
       "<table border=\"1\" class=\"dataframe\">\n",
       "  <thead>\n",
       "    <tr style=\"text-align: right;\">\n",
       "      <th></th>\n",
       "      <th>index</th>\n",
       "      <th>Time</th>\n",
       "      <th>Glucose</th>\n",
       "      <th>subjectId</th>\n",
       "      <th>Day</th>\n",
       "      <th>Timefrommidnight</th>\n",
       "      <th>Minfrommid</th>\n",
       "    </tr>\n",
       "  </thead>\n",
       "  <tbody>\n",
       "    <tr>\n",
       "      <td>5597</td>\n",
       "      <td>5597</td>\n",
       "      <td>2016-01-14 00:03:15</td>\n",
       "      <td>120.0</td>\n",
       "      <td>1636-69-032</td>\n",
       "      <td>14</td>\n",
       "      <td>00:03:15</td>\n",
       "      <td>3</td>\n",
       "    </tr>\n",
       "    <tr>\n",
       "      <td>5598</td>\n",
       "      <td>5598</td>\n",
       "      <td>2016-01-14 00:08:15</td>\n",
       "      <td>120.0</td>\n",
       "      <td>1636-69-032</td>\n",
       "      <td>14</td>\n",
       "      <td>00:08:15</td>\n",
       "      <td>8</td>\n",
       "    </tr>\n",
       "    <tr>\n",
       "      <td>5599</td>\n",
       "      <td>5599</td>\n",
       "      <td>2016-01-14 00:13:15</td>\n",
       "      <td>123.0</td>\n",
       "      <td>1636-69-032</td>\n",
       "      <td>14</td>\n",
       "      <td>00:13:15</td>\n",
       "      <td>13</td>\n",
       "    </tr>\n",
       "    <tr>\n",
       "      <td>5600</td>\n",
       "      <td>5600</td>\n",
       "      <td>2016-01-14 00:18:15</td>\n",
       "      <td>126.0</td>\n",
       "      <td>1636-69-032</td>\n",
       "      <td>14</td>\n",
       "      <td>00:18:15</td>\n",
       "      <td>18</td>\n",
       "    </tr>\n",
       "    <tr>\n",
       "      <td>5601</td>\n",
       "      <td>5601</td>\n",
       "      <td>2016-01-14 00:23:15</td>\n",
       "      <td>127.0</td>\n",
       "      <td>1636-69-032</td>\n",
       "      <td>14</td>\n",
       "      <td>00:23:15</td>\n",
       "      <td>23</td>\n",
       "    </tr>\n",
       "    <tr>\n",
       "      <td>...</td>\n",
       "      <td>...</td>\n",
       "      <td>...</td>\n",
       "      <td>...</td>\n",
       "      <td>...</td>\n",
       "      <td>...</td>\n",
       "      <td>...</td>\n",
       "      <td>...</td>\n",
       "    </tr>\n",
       "    <tr>\n",
       "      <td>7031</td>\n",
       "      <td>7031</td>\n",
       "      <td>2016-01-18 23:37:52</td>\n",
       "      <td>136.0</td>\n",
       "      <td>1636-69-032</td>\n",
       "      <td>18</td>\n",
       "      <td>23:37:52</td>\n",
       "      <td>1418</td>\n",
       "    </tr>\n",
       "    <tr>\n",
       "      <td>7032</td>\n",
       "      <td>7032</td>\n",
       "      <td>2016-01-18 23:42:52</td>\n",
       "      <td>126.0</td>\n",
       "      <td>1636-69-032</td>\n",
       "      <td>18</td>\n",
       "      <td>23:42:52</td>\n",
       "      <td>1423</td>\n",
       "    </tr>\n",
       "    <tr>\n",
       "      <td>7033</td>\n",
       "      <td>7033</td>\n",
       "      <td>2016-01-18 23:47:52</td>\n",
       "      <td>132.0</td>\n",
       "      <td>1636-69-032</td>\n",
       "      <td>18</td>\n",
       "      <td>23:47:52</td>\n",
       "      <td>1428</td>\n",
       "    </tr>\n",
       "    <tr>\n",
       "      <td>7034</td>\n",
       "      <td>7034</td>\n",
       "      <td>2016-01-18 23:52:52</td>\n",
       "      <td>135.0</td>\n",
       "      <td>1636-69-032</td>\n",
       "      <td>18</td>\n",
       "      <td>23:52:52</td>\n",
       "      <td>1433</td>\n",
       "    </tr>\n",
       "    <tr>\n",
       "      <td>7035</td>\n",
       "      <td>7035</td>\n",
       "      <td>2016-01-18 23:57:52</td>\n",
       "      <td>128.0</td>\n",
       "      <td>1636-69-032</td>\n",
       "      <td>18</td>\n",
       "      <td>23:57:52</td>\n",
       "      <td>1438</td>\n",
       "    </tr>\n",
       "  </tbody>\n",
       "</table>\n",
       "<p>1439 rows × 7 columns</p>\n",
       "</div>"
      ],
      "text/plain": [
       "      index                Time  Glucose    subjectId  Day Timefrommidnight  \\\n",
       "5597   5597 2016-01-14 00:03:15    120.0  1636-69-032   14         00:03:15   \n",
       "5598   5598 2016-01-14 00:08:15    120.0  1636-69-032   14         00:08:15   \n",
       "5599   5599 2016-01-14 00:13:15    123.0  1636-69-032   14         00:13:15   \n",
       "5600   5600 2016-01-14 00:18:15    126.0  1636-69-032   14         00:18:15   \n",
       "5601   5601 2016-01-14 00:23:15    127.0  1636-69-032   14         00:23:15   \n",
       "...     ...                 ...      ...          ...  ...              ...   \n",
       "7031   7031 2016-01-18 23:37:52    136.0  1636-69-032   18         23:37:52   \n",
       "7032   7032 2016-01-18 23:42:52    126.0  1636-69-032   18         23:42:52   \n",
       "7033   7033 2016-01-18 23:47:52    132.0  1636-69-032   18         23:47:52   \n",
       "7034   7034 2016-01-18 23:52:52    135.0  1636-69-032   18         23:52:52   \n",
       "7035   7035 2016-01-18 23:57:52    128.0  1636-69-032   18         23:57:52   \n",
       "\n",
       "      Minfrommid  \n",
       "5597           3  \n",
       "5598           8  \n",
       "5599          13  \n",
       "5600          18  \n",
       "5601          23  \n",
       "...          ...  \n",
       "7031        1418  \n",
       "7032        1423  \n",
       "7033        1428  \n",
       "7034        1433  \n",
       "7035        1438  \n",
       "\n",
       "[1439 rows x 7 columns]"
      ]
     },
     "execution_count": 135,
     "metadata": {},
     "output_type": "execute_result"
    }
   ],
   "source": [
    "prediabetic"
   ]
  },
  {
   "cell_type": "code",
   "execution_count": null,
   "metadata": {},
   "outputs": [],
   "source": []
  }
 ],
 "metadata": {
  "kernelspec": {
   "display_name": "Python 3",
   "language": "python",
   "name": "python3"
  },
  "language_info": {
   "codemirror_mode": {
    "name": "ipython",
    "version": 3
   },
   "file_extension": ".py",
   "mimetype": "text/x-python",
   "name": "python",
   "nbconvert_exporter": "python",
   "pygments_lexer": "ipython3",
   "version": "3.7.4"
  }
 },
 "nbformat": 4,
 "nbformat_minor": 2
}
